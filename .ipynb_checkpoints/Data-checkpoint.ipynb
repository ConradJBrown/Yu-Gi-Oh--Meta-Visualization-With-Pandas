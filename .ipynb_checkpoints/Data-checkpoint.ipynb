{
 "cells": [
  {
   "cell_type": "markdown",
   "id": "89daad09-6298-41eb-a470-54f17e2286fe",
   "metadata": {},
   "source": [
    "# St.Johns Yu-Gi-Oh! Meta Visualization"
   ]
  },
  {
   "cell_type": "markdown",
   "id": "15f088a9",
   "metadata": {},
   "source": [
    "## By: Conrad Brown"
   ]
  },
  {
   "cell_type": "markdown",
   "id": "315be2a6-473d-42ce-b189-40113a712afc",
   "metadata": {},
   "source": [
    "## Imported Libraries"
   ]
  },
  {
   "cell_type": "code",
   "execution_count": 1,
   "id": "03bc2d46-1ea6-40ce-9a72-c00ef3168d8c",
   "metadata": {},
   "outputs": [],
   "source": [
    "import pandas as pd\n",
    "import plotly.express as px\n",
    "import dataframe_image as dfi\n",
    "\n",
    "import ipywidgets as widgets\n",
    "from ipywidgets import interact"
   ]
  },
  {
   "cell_type": "markdown",
   "id": "a41a6e4c-9d08-4b3a-b8f3-94e2ecf9d794",
   "metadata": {},
   "source": [
    "## Organizing data"
   ]
  },
  {
   "cell_type": "code",
   "execution_count": 2,
   "id": "19e34331-0ce1-4dd2-a9d7-a314e74e4c6d",
   "metadata": {},
   "outputs": [
    {
     "data": {
      "text/html": [
       "<div>\n",
       "<style scoped>\n",
       "    .dataframe tbody tr th:only-of-type {\n",
       "        vertical-align: middle;\n",
       "    }\n",
       "\n",
       "    .dataframe tbody tr th {\n",
       "        vertical-align: top;\n",
       "    }\n",
       "\n",
       "    .dataframe thead th {\n",
       "        text-align: right;\n",
       "    }\n",
       "</style>\n",
       "<table border=\"1\" class=\"dataframe\">\n",
       "  <thead>\n",
       "    <tr style=\"text-align: right;\">\n",
       "      <th></th>\n",
       "      <th>Name</th>\n",
       "      <th>Archetype</th>\n",
       "      <th>Variant</th>\n",
       "      <th>Placement</th>\n",
       "      <th>Date</th>\n",
       "      <th>Format</th>\n",
       "      <th>Day</th>\n",
       "    </tr>\n",
       "  </thead>\n",
       "  <tbody>\n",
       "    <tr>\n",
       "      <th>0</th>\n",
       "      <td>Bugden, Johnny</td>\n",
       "      <td>Spright</td>\n",
       "      <td>Tri-Brigade</td>\n",
       "      <td>1.0</td>\n",
       "      <td>1/4/2023</td>\n",
       "      <td>12/01/2022</td>\n",
       "      <td>Wednesday</td>\n",
       "    </tr>\n",
       "    <tr>\n",
       "      <th>1</th>\n",
       "      <td>Sharpe, Chris</td>\n",
       "      <td>ABC</td>\n",
       "      <td>Adventurer Token</td>\n",
       "      <td>2.0</td>\n",
       "      <td>1/4/2023</td>\n",
       "      <td>12/01/2022</td>\n",
       "      <td>Wednesday</td>\n",
       "    </tr>\n",
       "    <tr>\n",
       "      <th>2</th>\n",
       "      <td>Good, Keenan</td>\n",
       "      <td>Swordsoul</td>\n",
       "      <td>Tenyi</td>\n",
       "      <td>3.0</td>\n",
       "      <td>1/4/2023</td>\n",
       "      <td>12/01/2022</td>\n",
       "      <td>Wednesday</td>\n",
       "    </tr>\n",
       "    <tr>\n",
       "      <th>3</th>\n",
       "      <td>Marshall, Nick</td>\n",
       "      <td>Dinosaur</td>\n",
       "      <td>Pure</td>\n",
       "      <td>4.0</td>\n",
       "      <td>1/4/2023</td>\n",
       "      <td>12/01/2022</td>\n",
       "      <td>Wednesday</td>\n",
       "    </tr>\n",
       "    <tr>\n",
       "      <th>4</th>\n",
       "      <td>Good, Keenan</td>\n",
       "      <td>Swordsoul</td>\n",
       "      <td>Tenyi</td>\n",
       "      <td>1.0</td>\n",
       "      <td>1/8/2023</td>\n",
       "      <td>12/01/2022</td>\n",
       "      <td>Sunday</td>\n",
       "    </tr>\n",
       "    <tr>\n",
       "      <th>...</th>\n",
       "      <td>...</td>\n",
       "      <td>...</td>\n",
       "      <td>...</td>\n",
       "      <td>...</td>\n",
       "      <td>...</td>\n",
       "      <td>...</td>\n",
       "      <td>...</td>\n",
       "    </tr>\n",
       "    <tr>\n",
       "      <th>994</th>\n",
       "      <td>NaN</td>\n",
       "      <td>NaN</td>\n",
       "      <td>NaN</td>\n",
       "      <td>NaN</td>\n",
       "      <td>NaN</td>\n",
       "      <td>NaN</td>\n",
       "      <td></td>\n",
       "    </tr>\n",
       "    <tr>\n",
       "      <th>995</th>\n",
       "      <td>NaN</td>\n",
       "      <td>NaN</td>\n",
       "      <td>NaN</td>\n",
       "      <td>NaN</td>\n",
       "      <td>NaN</td>\n",
       "      <td>NaN</td>\n",
       "      <td></td>\n",
       "    </tr>\n",
       "    <tr>\n",
       "      <th>996</th>\n",
       "      <td>NaN</td>\n",
       "      <td>NaN</td>\n",
       "      <td>NaN</td>\n",
       "      <td>NaN</td>\n",
       "      <td>NaN</td>\n",
       "      <td>NaN</td>\n",
       "      <td></td>\n",
       "    </tr>\n",
       "    <tr>\n",
       "      <th>997</th>\n",
       "      <td>NaN</td>\n",
       "      <td>NaN</td>\n",
       "      <td>NaN</td>\n",
       "      <td>NaN</td>\n",
       "      <td>NaN</td>\n",
       "      <td>NaN</td>\n",
       "      <td></td>\n",
       "    </tr>\n",
       "    <tr>\n",
       "      <th>998</th>\n",
       "      <td>NaN</td>\n",
       "      <td>NaN</td>\n",
       "      <td>NaN</td>\n",
       "      <td>NaN</td>\n",
       "      <td>NaN</td>\n",
       "      <td>NaN</td>\n",
       "      <td></td>\n",
       "    </tr>\n",
       "  </tbody>\n",
       "</table>\n",
       "<p>999 rows × 7 columns</p>\n",
       "</div>"
      ],
      "text/plain": [
       "               Name  Archetype           Variant  Placement      Date  \\\n",
       "0    Bugden, Johnny    Spright       Tri-Brigade        1.0  1/4/2023   \n",
       "1     Sharpe, Chris        ABC  Adventurer Token        2.0  1/4/2023   \n",
       "2      Good, Keenan  Swordsoul             Tenyi        3.0  1/4/2023   \n",
       "3    Marshall, Nick   Dinosaur              Pure        4.0  1/4/2023   \n",
       "4      Good, Keenan  Swordsoul             Tenyi        1.0  1/8/2023   \n",
       "..              ...        ...               ...        ...       ...   \n",
       "994             NaN        NaN               NaN        NaN       NaN   \n",
       "995             NaN        NaN               NaN        NaN       NaN   \n",
       "996             NaN        NaN               NaN        NaN       NaN   \n",
       "997             NaN        NaN               NaN        NaN       NaN   \n",
       "998             NaN        NaN               NaN        NaN       NaN   \n",
       "\n",
       "         Format        Day  \n",
       "0    12/01/2022  Wednesday  \n",
       "1    12/01/2022  Wednesday  \n",
       "2    12/01/2022  Wednesday  \n",
       "3    12/01/2022  Wednesday  \n",
       "4    12/01/2022     Sunday  \n",
       "..          ...        ...  \n",
       "994         NaN             \n",
       "995         NaN             \n",
       "996         NaN             \n",
       "997         NaN             \n",
       "998         NaN             \n",
       "\n",
       "[999 rows x 7 columns]"
      ]
     },
     "execution_count": 2,
     "metadata": {},
     "output_type": "execute_result"
    }
   ],
   "source": [
    "#Import the .csv file for the multiple visualizations need in this\n",
    "df = pd.read_csv('YuGiOh Top Players - 2023.csv')\n",
    "df"
   ]
  },
  {
   "cell_type": "markdown",
   "id": "44236b45-32fe-454f-bda8-c01666cb9deb",
   "metadata": {},
   "source": [
    "## Sunday Data"
   ]
  },
  {
   "cell_type": "code",
   "execution_count": 3,
   "id": "494c0c6d-f11e-4913-864f-2c18405d6a21",
   "metadata": {},
   "outputs": [
    {
     "data": {
      "text/html": [
       "<div>\n",
       "<style scoped>\n",
       "    .dataframe tbody tr th:only-of-type {\n",
       "        vertical-align: middle;\n",
       "    }\n",
       "\n",
       "    .dataframe tbody tr th {\n",
       "        vertical-align: top;\n",
       "    }\n",
       "\n",
       "    .dataframe thead th {\n",
       "        text-align: right;\n",
       "    }\n",
       "</style>\n",
       "<table border=\"1\" class=\"dataframe\">\n",
       "  <thead>\n",
       "    <tr style=\"text-align: right;\">\n",
       "      <th></th>\n",
       "      <th>Name</th>\n",
       "      <th>Archetype</th>\n",
       "      <th>Variant</th>\n",
       "      <th>Placement</th>\n",
       "      <th>Date</th>\n",
       "      <th>Format</th>\n",
       "      <th>Day</th>\n",
       "    </tr>\n",
       "  </thead>\n",
       "  <tbody>\n",
       "    <tr>\n",
       "      <th>0</th>\n",
       "      <td>Bugden, Johnny</td>\n",
       "      <td>Spright</td>\n",
       "      <td>Tri-Brigade</td>\n",
       "      <td>1.0</td>\n",
       "      <td>1/4/2023</td>\n",
       "      <td>12/01/2022</td>\n",
       "      <td>Wednesday</td>\n",
       "    </tr>\n",
       "    <tr>\n",
       "      <th>1</th>\n",
       "      <td>Sharpe, Chris</td>\n",
       "      <td>ABC</td>\n",
       "      <td>Adventurer Token</td>\n",
       "      <td>2.0</td>\n",
       "      <td>1/4/2023</td>\n",
       "      <td>12/01/2022</td>\n",
       "      <td>Wednesday</td>\n",
       "    </tr>\n",
       "    <tr>\n",
       "      <th>2</th>\n",
       "      <td>Good, Keenan</td>\n",
       "      <td>Swordsoul</td>\n",
       "      <td>Tenyi</td>\n",
       "      <td>3.0</td>\n",
       "      <td>1/4/2023</td>\n",
       "      <td>12/01/2022</td>\n",
       "      <td>Wednesday</td>\n",
       "    </tr>\n",
       "    <tr>\n",
       "      <th>3</th>\n",
       "      <td>Marshall, Nick</td>\n",
       "      <td>Dinosaur</td>\n",
       "      <td>Pure</td>\n",
       "      <td>4.0</td>\n",
       "      <td>1/4/2023</td>\n",
       "      <td>12/01/2022</td>\n",
       "      <td>Wednesday</td>\n",
       "    </tr>\n",
       "    <tr>\n",
       "      <th>4</th>\n",
       "      <td>Good, Keenan</td>\n",
       "      <td>Swordsoul</td>\n",
       "      <td>Tenyi</td>\n",
       "      <td>1.0</td>\n",
       "      <td>1/8/2023</td>\n",
       "      <td>12/01/2022</td>\n",
       "      <td>Sunday</td>\n",
       "    </tr>\n",
       "    <tr>\n",
       "      <th>...</th>\n",
       "      <td>...</td>\n",
       "      <td>...</td>\n",
       "      <td>...</td>\n",
       "      <td>...</td>\n",
       "      <td>...</td>\n",
       "      <td>...</td>\n",
       "      <td>...</td>\n",
       "    </tr>\n",
       "    <tr>\n",
       "      <th>135</th>\n",
       "      <td>Parsley, Nathan</td>\n",
       "      <td>Superheavy Samurai</td>\n",
       "      <td>Pure</td>\n",
       "      <td>4.0</td>\n",
       "      <td>5/21/2023</td>\n",
       "      <td>02/13/2023</td>\n",
       "      <td>Sunday</td>\n",
       "    </tr>\n",
       "    <tr>\n",
       "      <th>136</th>\n",
       "      <td>Critch, Matthew</td>\n",
       "      <td>Mathmech</td>\n",
       "      <td>Pure</td>\n",
       "      <td>1.0</td>\n",
       "      <td>5/24/2023</td>\n",
       "      <td>02/13/2023</td>\n",
       "      <td>Wednesday</td>\n",
       "    </tr>\n",
       "    <tr>\n",
       "      <th>137</th>\n",
       "      <td>Freeman, Shane</td>\n",
       "      <td>Kashtira</td>\n",
       "      <td>Pure</td>\n",
       "      <td>2.0</td>\n",
       "      <td>5/24/2023</td>\n",
       "      <td>02/13/2023</td>\n",
       "      <td>Wednesday</td>\n",
       "    </tr>\n",
       "    <tr>\n",
       "      <th>138</th>\n",
       "      <td>Whiteway, Nicholas</td>\n",
       "      <td>Kashtira</td>\n",
       "      <td>Pure</td>\n",
       "      <td>3.0</td>\n",
       "      <td>5/24/2023</td>\n",
       "      <td>02/13/2023</td>\n",
       "      <td>Wednesday</td>\n",
       "    </tr>\n",
       "    <tr>\n",
       "      <th>139</th>\n",
       "      <td>Parsley, Nathan</td>\n",
       "      <td>Superheavy Samurai</td>\n",
       "      <td>Pure</td>\n",
       "      <td>4.0</td>\n",
       "      <td>5/24/2023</td>\n",
       "      <td>02/13/2023</td>\n",
       "      <td>Wednesday</td>\n",
       "    </tr>\n",
       "  </tbody>\n",
       "</table>\n",
       "<p>140 rows × 7 columns</p>\n",
       "</div>"
      ],
      "text/plain": [
       "                   Name           Archetype           Variant  Placement  \\\n",
       "0        Bugden, Johnny             Spright       Tri-Brigade        1.0   \n",
       "1         Sharpe, Chris                 ABC  Adventurer Token        2.0   \n",
       "2          Good, Keenan           Swordsoul             Tenyi        3.0   \n",
       "3        Marshall, Nick            Dinosaur              Pure        4.0   \n",
       "4          Good, Keenan           Swordsoul             Tenyi        1.0   \n",
       "..                  ...                 ...               ...        ...   \n",
       "135     Parsley, Nathan  Superheavy Samurai              Pure        4.0   \n",
       "136     Critch, Matthew            Mathmech              Pure        1.0   \n",
       "137      Freeman, Shane            Kashtira              Pure        2.0   \n",
       "138  Whiteway, Nicholas            Kashtira              Pure        3.0   \n",
       "139     Parsley, Nathan  Superheavy Samurai              Pure        4.0   \n",
       "\n",
       "          Date      Format        Day  \n",
       "0     1/4/2023  12/01/2022  Wednesday  \n",
       "1     1/4/2023  12/01/2022  Wednesday  \n",
       "2     1/4/2023  12/01/2022  Wednesday  \n",
       "3     1/4/2023  12/01/2022  Wednesday  \n",
       "4     1/8/2023  12/01/2022     Sunday  \n",
       "..         ...         ...        ...  \n",
       "135  5/21/2023  02/13/2023     Sunday  \n",
       "136  5/24/2023  02/13/2023  Wednesday  \n",
       "137  5/24/2023  02/13/2023  Wednesday  \n",
       "138  5/24/2023  02/13/2023  Wednesday  \n",
       "139  5/24/2023  02/13/2023  Wednesday  \n",
       "\n",
       "[140 rows x 7 columns]"
      ]
     },
     "execution_count": 3,
     "metadata": {},
     "output_type": "execute_result"
    }
   ],
   "source": [
    "df = df.dropna()\n",
    "dffff = df[df['Format'] == '02/13/2023']\n",
    "df"
   ]
  },
  {
   "cell_type": "code",
   "execution_count": 5,
   "id": "3c99e072-7e8c-4bde-8c43-5754e23a04fb",
   "metadata": {},
   "outputs": [
    {
     "ename": "FileNotFoundError",
     "evalue": "[Errno 2] No such file or directory: '/usr/bin/flatpak run --branch=stable --arch=x86_64 --command=/app/bin/chrome --file-forwarding com.google.Chrome @@u %U @@'",
     "output_type": "error",
     "traceback": [
      "\u001b[0;31m---------------------------------------------------------------------------\u001b[0m",
      "\u001b[0;31mFileNotFoundError\u001b[0m                         Traceback (most recent call last)",
      "Cell \u001b[0;32mIn[5], line 3\u001b[0m\n\u001b[1;32m      1\u001b[0m players_top \u001b[38;5;241m=\u001b[39m df[\u001b[38;5;124m'\u001b[39m\u001b[38;5;124mName\u001b[39m\u001b[38;5;124m'\u001b[39m]\u001b[38;5;241m.\u001b[39mvalue_counts()\u001b[38;5;241m.\u001b[39mreset_index()\n\u001b[1;32m      2\u001b[0m \u001b[38;5;124m'\u001b[39m\u001b[38;5;124mplayers_top = players_top.style.background_gradient()\u001b[39m\u001b[38;5;124m'\u001b[39m\n\u001b[0;32m----> 3\u001b[0m \u001b[43mdfi\u001b[49m\u001b[38;5;241;43m.\u001b[39;49m\u001b[43mexport\u001b[49m\u001b[43m(\u001b[49m\u001b[43mplayers_top\u001b[49m\u001b[43m,\u001b[49m\u001b[43m \u001b[49m\u001b[38;5;124;43m\"\u001b[39;49m\u001b[38;5;124;43mTotal_Top_Players.png\u001b[39;49m\u001b[38;5;124;43m\"\u001b[39;49m\u001b[43m,\u001b[49m\u001b[43mtable_conversion\u001b[49m\u001b[43m \u001b[49m\u001b[38;5;241;43m=\u001b[39;49m\u001b[43m \u001b[49m\u001b[38;5;124;43m'\u001b[39;49m\u001b[38;5;124;43mchrome\u001b[39;49m\u001b[38;5;124;43m'\u001b[39;49m\u001b[43m,\u001b[49m\u001b[43m \u001b[49m\u001b[43mchrome_path\u001b[49m\u001b[38;5;241;43m=\u001b[39;49m\u001b[38;5;124;43m\"\u001b[39;49m\u001b[38;5;124;43m/usr/bin/flatpak run --branch=stable --arch=x86_64 --command=/app/bin/chrome --file-forwarding com.google.Chrome @@u \u001b[39;49m\u001b[38;5;124;43m%\u001b[39;49m\u001b[38;5;124;43mU @@\u001b[39;49m\u001b[38;5;124;43m\"\u001b[39;49m\u001b[43m)\u001b[49m\n\u001b[1;32m      4\u001b[0m players_top\n",
      "File \u001b[0;32m~/.local/lib/python3.8/site-packages/dataframe_image/_pandas_accessor.py:48\u001b[0m, in \u001b[0;36mexport\u001b[0;34m(obj, filename, fontsize, max_rows, max_cols, table_conversion, chrome_path, dpi)\u001b[0m\n\u001b[1;32m     38\u001b[0m \u001b[38;5;28;01mdef\u001b[39;00m \u001b[38;5;21mexport\u001b[39m(\n\u001b[1;32m     39\u001b[0m     obj,\n\u001b[1;32m     40\u001b[0m     filename,\n\u001b[0;32m   (...)\u001b[0m\n\u001b[1;32m     46\u001b[0m     dpi\u001b[38;5;241m=\u001b[39m\u001b[38;5;28;01mNone\u001b[39;00m,\n\u001b[1;32m     47\u001b[0m ):\n\u001b[0;32m---> 48\u001b[0m     \u001b[38;5;28;01mreturn\u001b[39;00m \u001b[43m_export\u001b[49m\u001b[43m(\u001b[49m\n\u001b[1;32m     49\u001b[0m \u001b[43m        \u001b[49m\u001b[43mobj\u001b[49m\u001b[43m,\u001b[49m\u001b[43m \u001b[49m\u001b[43mfilename\u001b[49m\u001b[43m,\u001b[49m\u001b[43m \u001b[49m\u001b[43mfontsize\u001b[49m\u001b[43m,\u001b[49m\u001b[43m \u001b[49m\u001b[43mmax_rows\u001b[49m\u001b[43m,\u001b[49m\u001b[43m \u001b[49m\u001b[43mmax_cols\u001b[49m\u001b[43m,\u001b[49m\u001b[43m \u001b[49m\u001b[43mtable_conversion\u001b[49m\u001b[43m,\u001b[49m\u001b[43m \u001b[49m\u001b[43mchrome_path\u001b[49m\u001b[43m,\u001b[49m\u001b[43m \u001b[49m\u001b[43mdpi\u001b[49m\n\u001b[1;32m     50\u001b[0m \u001b[43m    \u001b[49m\u001b[43m)\u001b[49m\n",
      "File \u001b[0;32m~/.local/lib/python3.8/site-packages/dataframe_image/_pandas_accessor.py:142\u001b[0m, in \u001b[0;36m_export\u001b[0;34m(obj, filename, fontsize, max_rows, max_cols, table_conversion, chrome_path, dpi)\u001b[0m\n\u001b[1;32m    139\u001b[0m \u001b[38;5;28;01melse\u001b[39;00m:\n\u001b[1;32m    140\u001b[0m     html \u001b[38;5;241m=\u001b[39m obj\u001b[38;5;241m.\u001b[39mto_html(max_rows\u001b[38;5;241m=\u001b[39mmax_rows, max_cols\u001b[38;5;241m=\u001b[39mmax_cols, notebook\u001b[38;5;241m=\u001b[39m\u001b[38;5;28;01mTrue\u001b[39;00m)\n\u001b[0;32m--> 142\u001b[0m img_str \u001b[38;5;241m=\u001b[39m \u001b[43mconverter\u001b[49m\u001b[43m(\u001b[49m\u001b[43mhtml\u001b[49m\u001b[43m)\u001b[49m\n\u001b[1;32m    144\u001b[0m \u001b[38;5;28;01mtry\u001b[39;00m:\n\u001b[1;32m    145\u001b[0m     \u001b[38;5;28;01mwith\u001b[39;00m \u001b[38;5;28mopen\u001b[39m(filename, \u001b[38;5;124m\"\u001b[39m\u001b[38;5;124mwb\u001b[39m\u001b[38;5;124m\"\u001b[39m) \u001b[38;5;28;01mas\u001b[39;00m f:\n",
      "File \u001b[0;32m~/.local/lib/python3.8/site-packages/dataframe_image/_screenshot.py:204\u001b[0m, in \u001b[0;36mScreenshot.run\u001b[0;34m(self, html)\u001b[0m\n\u001b[1;32m    202\u001b[0m \u001b[38;5;28;01mdef\u001b[39;00m \u001b[38;5;21mrun\u001b[39m(\u001b[38;5;28mself\u001b[39m, html):\n\u001b[1;32m    203\u001b[0m     \u001b[38;5;28mself\u001b[39m\u001b[38;5;241m.\u001b[39mhtml \u001b[38;5;241m=\u001b[39m html\n\u001b[0;32m--> 204\u001b[0m     img \u001b[38;5;241m=\u001b[39m \u001b[38;5;28;43mself\u001b[39;49m\u001b[38;5;241;43m.\u001b[39;49m\u001b[43mtake_screenshot\u001b[49m\u001b[43m(\u001b[49m\u001b[43m)\u001b[49m\n\u001b[1;32m    205\u001b[0m     img_str \u001b[38;5;241m=\u001b[39m \u001b[38;5;28mself\u001b[39m\u001b[38;5;241m.\u001b[39mfinalize_image(img)\n\u001b[1;32m    206\u001b[0m     \u001b[38;5;28;01mreturn\u001b[39;00m img_str\n",
      "File \u001b[0;32m~/.local/lib/python3.8/site-packages/dataframe_image/_screenshot.py:142\u001b[0m, in \u001b[0;36mScreenshot.take_screenshot\u001b[0;34m(self, ss_width, ss_height)\u001b[0m\n\u001b[1;32m    134\u001b[0m     args\u001b[38;5;241m.\u001b[39mappend(\u001b[38;5;124mf\u001b[39m\u001b[38;5;124m\"\u001b[39m\u001b[38;5;124m--window-size=\u001b[39m\u001b[38;5;132;01m{\u001b[39;00mss_width\u001b[38;5;132;01m}\u001b[39;00m\u001b[38;5;124m,\u001b[39m\u001b[38;5;132;01m{\u001b[39;00mss_height\u001b[38;5;132;01m}\u001b[39;00m\u001b[38;5;124m\"\u001b[39m)\n\u001b[1;32m    136\u001b[0m args \u001b[38;5;241m+\u001b[39m\u001b[38;5;241m=\u001b[39m [\n\u001b[1;32m    137\u001b[0m     \u001b[38;5;124m\"\u001b[39m\u001b[38;5;124m--hide-scrollbars\u001b[39m\u001b[38;5;124m\"\u001b[39m,\n\u001b[1;32m    138\u001b[0m     \u001b[38;5;124mf\u001b[39m\u001b[38;5;124m\"\u001b[39m\u001b[38;5;124m--screenshot=\u001b[39m\u001b[38;5;132;01m{\u001b[39;00m\u001b[38;5;28mstr\u001b[39m(temp_img)\u001b[38;5;132;01m}\u001b[39;00m\u001b[38;5;124m\"\u001b[39m,\n\u001b[1;32m    139\u001b[0m     \u001b[38;5;28mstr\u001b[39m(temp_html),\n\u001b[1;32m    140\u001b[0m ]\n\u001b[0;32m--> 142\u001b[0m \u001b[38;5;28;43mself\u001b[39;49m\u001b[38;5;241;43m.\u001b[39;49m\u001b[43mgenerate_image_from_html\u001b[49m\u001b[43m(\u001b[49m\u001b[43margs\u001b[49m\u001b[43m)\u001b[49m\n\u001b[1;32m    143\u001b[0m \u001b[38;5;28;01mwith\u001b[39;00m \u001b[38;5;28mopen\u001b[39m(temp_img, \u001b[38;5;124m\"\u001b[39m\u001b[38;5;124mrb\u001b[39m\u001b[38;5;124m\"\u001b[39m) \u001b[38;5;28;01mas\u001b[39;00m f:\n\u001b[1;32m    144\u001b[0m     bio \u001b[38;5;241m=\u001b[39m io\u001b[38;5;241m.\u001b[39mBytesIO(f\u001b[38;5;241m.\u001b[39mread())\n",
      "File \u001b[0;32m~/.local/lib/python3.8/site-packages/dataframe_image/_screenshot.py:150\u001b[0m, in \u001b[0;36mScreenshot.generate_image_from_html\u001b[0;34m(self, args)\u001b[0m\n\u001b[1;32m    148\u001b[0m \u001b[38;5;28;01mdef\u001b[39;00m \u001b[38;5;21mgenerate_image_from_html\u001b[39m(\u001b[38;5;28mself\u001b[39m, args):\n\u001b[1;32m    149\u001b[0m     \u001b[38;5;66;03m# print(self.chrome_path)\u001b[39;00m\n\u001b[0;32m--> 150\u001b[0m     \u001b[43msubprocess\u001b[49m\u001b[38;5;241;43m.\u001b[39;49m\u001b[43mrun\u001b[49m\u001b[43m(\u001b[49m\u001b[43mexecutable\u001b[49m\u001b[38;5;241;43m=\u001b[39;49m\u001b[38;5;28;43mself\u001b[39;49m\u001b[38;5;241;43m.\u001b[39;49m\u001b[43mchrome_path\u001b[49m\u001b[43m,\u001b[49m\u001b[43m \u001b[49m\u001b[43margs\u001b[49m\u001b[38;5;241;43m=\u001b[39;49m\u001b[43margs\u001b[49m\u001b[43m,\u001b[49m\u001b[43m \u001b[49m\u001b[43mcapture_output\u001b[49m\u001b[38;5;241;43m=\u001b[39;49m\u001b[38;5;28;43;01mTrue\u001b[39;49;00m\u001b[43m,\u001b[49m\u001b[43m \u001b[49m\u001b[43mcheck\u001b[49m\u001b[38;5;241;43m=\u001b[39;49m\u001b[38;5;28;43;01mTrue\u001b[39;49;00m\u001b[43m)\u001b[49m\n",
      "File \u001b[0;32m/usr/lib/python3.8/subprocess.py:493\u001b[0m, in \u001b[0;36mrun\u001b[0;34m(input, capture_output, timeout, check, *popenargs, **kwargs)\u001b[0m\n\u001b[1;32m    490\u001b[0m     kwargs[\u001b[38;5;124m'\u001b[39m\u001b[38;5;124mstdout\u001b[39m\u001b[38;5;124m'\u001b[39m] \u001b[38;5;241m=\u001b[39m PIPE\n\u001b[1;32m    491\u001b[0m     kwargs[\u001b[38;5;124m'\u001b[39m\u001b[38;5;124mstderr\u001b[39m\u001b[38;5;124m'\u001b[39m] \u001b[38;5;241m=\u001b[39m PIPE\n\u001b[0;32m--> 493\u001b[0m \u001b[38;5;28;01mwith\u001b[39;00m \u001b[43mPopen\u001b[49m\u001b[43m(\u001b[49m\u001b[38;5;241;43m*\u001b[39;49m\u001b[43mpopenargs\u001b[49m\u001b[43m,\u001b[49m\u001b[43m \u001b[49m\u001b[38;5;241;43m*\u001b[39;49m\u001b[38;5;241;43m*\u001b[39;49m\u001b[43mkwargs\u001b[49m\u001b[43m)\u001b[49m \u001b[38;5;28;01mas\u001b[39;00m process:\n\u001b[1;32m    494\u001b[0m     \u001b[38;5;28;01mtry\u001b[39;00m:\n\u001b[1;32m    495\u001b[0m         stdout, stderr \u001b[38;5;241m=\u001b[39m process\u001b[38;5;241m.\u001b[39mcommunicate(\u001b[38;5;28minput\u001b[39m, timeout\u001b[38;5;241m=\u001b[39mtimeout)\n",
      "File \u001b[0;32m/usr/lib/python3.8/subprocess.py:858\u001b[0m, in \u001b[0;36mPopen.__init__\u001b[0;34m(self, args, bufsize, executable, stdin, stdout, stderr, preexec_fn, close_fds, shell, cwd, env, universal_newlines, startupinfo, creationflags, restore_signals, start_new_session, pass_fds, encoding, errors, text)\u001b[0m\n\u001b[1;32m    854\u001b[0m         \u001b[38;5;28;01mif\u001b[39;00m \u001b[38;5;28mself\u001b[39m\u001b[38;5;241m.\u001b[39mtext_mode:\n\u001b[1;32m    855\u001b[0m             \u001b[38;5;28mself\u001b[39m\u001b[38;5;241m.\u001b[39mstderr \u001b[38;5;241m=\u001b[39m io\u001b[38;5;241m.\u001b[39mTextIOWrapper(\u001b[38;5;28mself\u001b[39m\u001b[38;5;241m.\u001b[39mstderr,\n\u001b[1;32m    856\u001b[0m                     encoding\u001b[38;5;241m=\u001b[39mencoding, errors\u001b[38;5;241m=\u001b[39merrors)\n\u001b[0;32m--> 858\u001b[0m     \u001b[38;5;28;43mself\u001b[39;49m\u001b[38;5;241;43m.\u001b[39;49m\u001b[43m_execute_child\u001b[49m\u001b[43m(\u001b[49m\u001b[43margs\u001b[49m\u001b[43m,\u001b[49m\u001b[43m \u001b[49m\u001b[43mexecutable\u001b[49m\u001b[43m,\u001b[49m\u001b[43m \u001b[49m\u001b[43mpreexec_fn\u001b[49m\u001b[43m,\u001b[49m\u001b[43m \u001b[49m\u001b[43mclose_fds\u001b[49m\u001b[43m,\u001b[49m\n\u001b[1;32m    859\u001b[0m \u001b[43m                        \u001b[49m\u001b[43mpass_fds\u001b[49m\u001b[43m,\u001b[49m\u001b[43m \u001b[49m\u001b[43mcwd\u001b[49m\u001b[43m,\u001b[49m\u001b[43m \u001b[49m\u001b[43menv\u001b[49m\u001b[43m,\u001b[49m\n\u001b[1;32m    860\u001b[0m \u001b[43m                        \u001b[49m\u001b[43mstartupinfo\u001b[49m\u001b[43m,\u001b[49m\u001b[43m \u001b[49m\u001b[43mcreationflags\u001b[49m\u001b[43m,\u001b[49m\u001b[43m \u001b[49m\u001b[43mshell\u001b[49m\u001b[43m,\u001b[49m\n\u001b[1;32m    861\u001b[0m \u001b[43m                        \u001b[49m\u001b[43mp2cread\u001b[49m\u001b[43m,\u001b[49m\u001b[43m \u001b[49m\u001b[43mp2cwrite\u001b[49m\u001b[43m,\u001b[49m\n\u001b[1;32m    862\u001b[0m \u001b[43m                        \u001b[49m\u001b[43mc2pread\u001b[49m\u001b[43m,\u001b[49m\u001b[43m \u001b[49m\u001b[43mc2pwrite\u001b[49m\u001b[43m,\u001b[49m\n\u001b[1;32m    863\u001b[0m \u001b[43m                        \u001b[49m\u001b[43merrread\u001b[49m\u001b[43m,\u001b[49m\u001b[43m \u001b[49m\u001b[43merrwrite\u001b[49m\u001b[43m,\u001b[49m\n\u001b[1;32m    864\u001b[0m \u001b[43m                        \u001b[49m\u001b[43mrestore_signals\u001b[49m\u001b[43m,\u001b[49m\u001b[43m \u001b[49m\u001b[43mstart_new_session\u001b[49m\u001b[43m)\u001b[49m\n\u001b[1;32m    865\u001b[0m \u001b[38;5;28;01mexcept\u001b[39;00m:\n\u001b[1;32m    866\u001b[0m     \u001b[38;5;66;03m# Cleanup if the child failed starting.\u001b[39;00m\n\u001b[1;32m    867\u001b[0m     \u001b[38;5;28;01mfor\u001b[39;00m f \u001b[38;5;129;01min\u001b[39;00m \u001b[38;5;28mfilter\u001b[39m(\u001b[38;5;28;01mNone\u001b[39;00m, (\u001b[38;5;28mself\u001b[39m\u001b[38;5;241m.\u001b[39mstdin, \u001b[38;5;28mself\u001b[39m\u001b[38;5;241m.\u001b[39mstdout, \u001b[38;5;28mself\u001b[39m\u001b[38;5;241m.\u001b[39mstderr)):\n",
      "File \u001b[0;32m/usr/lib/python3.8/subprocess.py:1704\u001b[0m, in \u001b[0;36mPopen._execute_child\u001b[0;34m(self, args, executable, preexec_fn, close_fds, pass_fds, cwd, env, startupinfo, creationflags, shell, p2cread, p2cwrite, c2pread, c2pwrite, errread, errwrite, restore_signals, start_new_session)\u001b[0m\n\u001b[1;32m   1702\u001b[0m     \u001b[38;5;28;01mif\u001b[39;00m errno_num \u001b[38;5;241m!=\u001b[39m \u001b[38;5;241m0\u001b[39m:\n\u001b[1;32m   1703\u001b[0m         err_msg \u001b[38;5;241m=\u001b[39m os\u001b[38;5;241m.\u001b[39mstrerror(errno_num)\n\u001b[0;32m-> 1704\u001b[0m     \u001b[38;5;28;01mraise\u001b[39;00m child_exception_type(errno_num, err_msg, err_filename)\n\u001b[1;32m   1705\u001b[0m \u001b[38;5;28;01mraise\u001b[39;00m child_exception_type(err_msg)\n",
      "\u001b[0;31mFileNotFoundError\u001b[0m: [Errno 2] No such file or directory: '/usr/bin/flatpak run --branch=stable --arch=x86_64 --command=/app/bin/chrome --file-forwarding com.google.Chrome @@u %U @@'"
     ]
    }
   ],
   "source": [
    "players_top = df['Name'].value_counts().reset_index()\n",
    "'players_top = players_top.style.background_gradient()'\n",
    "dfi.export(players_top, \"Total_Top_Players.png\",table_conversion = 'matplotlib')\n",
    "players_top"
   ]
  },
  {
   "cell_type": "code",
   "execution_count": null,
   "id": "0632697c",
   "metadata": {},
   "outputs": [],
   "source": [
    "fig = px.pie(players_top, values='Name', names='index', title = 'Total Tops', width = 1000, height = 1000)\n",
    "fig.show()"
   ]
  },
  {
   "cell_type": "code",
   "execution_count": null,
   "id": "d588f6ef-002c-4507-bcec-01633df4e664",
   "metadata": {},
   "outputs": [],
   "source": [
    "Decks_top = df['Archetype'].value_counts().reset_index()\n",
    "Decks_top"
   ]
  },
  {
   "cell_type": "code",
   "execution_count": null,
   "id": "a1c20b3d",
   "metadata": {},
   "outputs": [],
   "source": [
    "Decks_organized = Decks_top\n",
    "Decks_organized.loc[Decks_organized['Archetype'] < 4, \"index\"] = 'Other'\n",
    "Decks_organized.groupby('index').sum().sort_values('Archetype', ascending=False)"
   ]
  },
  {
   "cell_type": "code",
   "execution_count": null,
   "id": "cc7fddfe-b82a-4b3f-86d6-fa0a788b5c3f",
   "metadata": {},
   "outputs": [],
   "source": [
    "fig = px.pie(Decks_organized, values='Archetype', names='index', title = 'Total Decks', width = 1000, height = 1000)\n",
    "fig.show()"
   ]
  },
  {
   "cell_type": "code",
   "execution_count": null,
   "id": "268d9a6e-32ee-473d-8f7d-87e7438d718c",
   "metadata": {},
   "outputs": [],
   "source": [
    "Decks_Other = df['Archetype'].value_counts().reset_index()\n",
    "Decks_Other = Decks_Other.loc[Decks_Other['Archetype'] < 4]\n",
    "Decks_Other.groupby('index').sum().sort_values('Archetype', ascending=False)"
   ]
  },
  {
   "cell_type": "code",
   "execution_count": null,
   "id": "920c7cb9-3337-4a16-ad22-bb05550f8180",
   "metadata": {},
   "outputs": [],
   "source": [
    "fig = px.pie(Decks_Other, values='Archetype', names='index', title = 'Other Decks', width = 1000, height = 1200)\n",
    "fig.show()"
   ]
  },
  {
   "cell_type": "code",
   "execution_count": null,
   "id": "7c4e89c4-7458-4011-872d-60b4ce6fdf00",
   "metadata": {},
   "outputs": [],
   "source": [
    "Variant_Decks_top = df['Variant'].value_counts().reset_index()\n",
    "Variant_Decks_top"
   ]
  },
  {
   "cell_type": "code",
   "execution_count": null,
   "id": "36b5c7df-4e5e-497b-bb2b-82d30ac9dc1f",
   "metadata": {},
   "outputs": [],
   "source": [
    "Decks_Variants = df[['Archetype','Variant']].reset_index()\n",
    "Decks_Spright = Decks_Variants[Decks_Variants['Archetype'] =='Spright']\n",
    "Decks_Spright = Decks_Spright['Variant'].value_counts().reset_index()"
   ]
  },
  {
   "cell_type": "code",
   "execution_count": null,
   "id": "8cd87e15-8e5a-48ec-b6a9-ccd14e99c766",
   "metadata": {},
   "outputs": [],
   "source": [
    "fig = px.pie(Decks_Spright, values='Variant', names='index', title = 'Spright Variants', width = 1000, height = 1000)\n",
    "fig.show()"
   ]
  },
  {
   "cell_type": "code",
   "execution_count": null,
   "id": "9f5259da-70de-4432-b185-068d016c4672",
   "metadata": {},
   "outputs": [],
   "source": [
    "Decks_Despia = Decks_Variants[Decks_Variants['Archetype'] =='Despia']\n",
    "Decks_Despia = Decks_Despia['Variant'].value_counts().reset_index()\n",
    "Decks_Despia"
   ]
  },
  {
   "cell_type": "markdown",
   "id": "10ff760e-517c-4449-982f-29302c3dedb1",
   "metadata": {},
   "source": [
    "# Sunday Results"
   ]
  },
  {
   "cell_type": "code",
   "execution_count": null,
   "id": "2ace9160-9d4a-4c15-a4a8-5d1cac89c73e",
   "metadata": {},
   "outputs": [],
   "source": [
    "df_Sunday = df[df['Day'] == 'Sunday']\n",
    "df_Sunday"
   ]
  },
  {
   "cell_type": "code",
   "execution_count": null,
   "id": "ca8db96c-8585-49dc-bae4-6d12cef10145",
   "metadata": {},
   "outputs": [],
   "source": [
    "Sunday_Decks_top = df_Sunday['Archetype'].value_counts().reset_index()\n",
    "Sunday_Decks_top"
   ]
  },
  {
   "cell_type": "code",
   "execution_count": null,
   "id": "fad31ac4-4b0f-475c-b5bc-5e6930c784d2",
   "metadata": {},
   "outputs": [],
   "source": [
    "Sunday_Decks_top_organized = Sunday_Decks_top\n",
    "Sunday_Decks_top_organized.loc[Sunday_Decks_top_organized['Archetype'] < 4, \"index\"] = 'Other'\n",
    "Sunday_Decks_top_organized.groupby('index').sum().sort_values('Archetype', ascending=False)\n",
    "\n",
    "fig = px.pie(Sunday_Decks_top_organized, values='Archetype', names='index', title = 'Sunday Total Decks', width = 1000, height = 1000)\n",
    "fig.show()"
   ]
  },
  {
   "cell_type": "code",
   "execution_count": null,
   "id": "dea34f7d-88ee-4564-8c12-1b47b68dca44",
   "metadata": {},
   "outputs": [],
   "source": [
    "Sunday_Decks_Other = df_Sunday['Archetype'].value_counts().reset_index()\n",
    "Sunday_Decks_Other = Sunday_Decks_Other.loc[Sunday_Decks_Other['Archetype'] < 4]\n",
    "Sunday_Decks_Other.groupby('index').sum().sort_values('Archetype', ascending=False)"
   ]
  },
  {
   "cell_type": "code",
   "execution_count": null,
   "id": "5948c410-036e-41c8-a961-34425275f86c",
   "metadata": {},
   "outputs": [],
   "source": [
    "fig = px.pie(Sunday_Decks_Other, values='Archetype', names='index', title = 'Sunday Other Total Decks', width = 1000, height = 1000)\n",
    "fig.show()"
   ]
  },
  {
   "cell_type": "code",
   "execution_count": null,
   "id": "665ed44a-2a42-4009-b534-e49be2b96b79",
   "metadata": {},
   "outputs": [],
   "source": [
    "Sunday_players_top = df_Sunday['Name'].value_counts().reset_index()\n",
    "'players_top = players_top.style.background_gradient()'\n",
    "dfi.export(Sunday_players_top,\"Sunday_Total_Top_Players.png\")\n",
    "Sunday_players_top"
   ]
  },
  {
   "cell_type": "markdown",
   "id": "202a04c4-2f5e-48ab-8215-36332bdec381",
   "metadata": {},
   "source": [
    "# Wednesday Results"
   ]
  },
  {
   "cell_type": "code",
   "execution_count": null,
   "id": "0a633701-cfc9-4d3a-bdd8-97295ca0ebf0",
   "metadata": {},
   "outputs": [],
   "source": [
    "df_Wednesday = df[df['Day'] == 'Wednesday']\n",
    "df_Wednesday"
   ]
  },
  {
   "cell_type": "code",
   "execution_count": null,
   "id": "671ea55a-6191-43f4-9938-7ee15fd04a62",
   "metadata": {},
   "outputs": [],
   "source": [
    "Wednesday_Decks_top = df_Wednesday['Archetype'].value_counts().reset_index()\n",
    "Wednesday_Decks_top"
   ]
  },
  {
   "cell_type": "code",
   "execution_count": null,
   "id": "299509d9-a3b4-41ee-988a-e794f3306b01",
   "metadata": {},
   "outputs": [],
   "source": [
    "Wednesday_Decks_top_organized = Wednesday_Decks_top\n",
    "Wednesday_Decks_top_organized.loc[Wednesday_Decks_top_organized['Archetype'] < 3, \"index\"] = 'Other'\n",
    "Wednesday_Decks_top_organized.groupby('index').sum().sort_values('Archetype', ascending=False)\n",
    "\n",
    "fig = px.pie(Wednesday_Decks_top_organized, values='Archetype', names='index', title = 'Wednesday Total Decks', width = 1000, height = 1000)\n",
    "fig.show()"
   ]
  },
  {
   "cell_type": "code",
   "execution_count": null,
   "id": "fbc2c3e2-89f8-4bdc-ae80-e38c624a3eda",
   "metadata": {},
   "outputs": [],
   "source": [
    "Wednesday_players_top = df_Wednesday['Name'].value_counts().reset_index()\n",
    "'players_top = players_top.style.background_gradient()'\n",
    "dfi.export(Wednesday_players_top,\"Wednesday_Total_Top_Players.png\")\n",
    "Wednesday_players_top"
   ]
  },
  {
   "cell_type": "code",
   "execution_count": null,
   "id": "622b4283-502d-4c46-994a-4758da038f4d",
   "metadata": {},
   "outputs": [],
   "source": [
    "Wednesday_Decks_Other = df_Wednesday['Archetype'].value_counts().reset_index()\n",
    "Wednesday_Decks_Other = Wednesday_Decks_Other.loc[Wednesday_Decks_Other['Archetype'] < 4]\n",
    "Wednesday_Decks_Other.groupby('index').sum().sort_values('Archetype', ascending=False)\n",
    "\n",
    "fig = px.pie(Wednesday_Decks_Other, values='Archetype', names='index', title = 'Wednesday Other Total Decks', width = 1000, height = 1200)\n",
    "fig.show()"
   ]
  },
  {
   "cell_type": "code",
   "execution_count": null,
   "id": "d5eb978c-a0f2-41cd-81e7-e81e0d91a036",
   "metadata": {},
   "outputs": [],
   "source": []
  }
 ],
 "metadata": {
  "kernelspec": {
   "display_name": "Python 3 (ipykernel)",
   "language": "python",
   "name": "python3"
  },
  "language_info": {
   "codemirror_mode": {
    "name": "ipython",
    "version": 3
   },
   "file_extension": ".py",
   "mimetype": "text/x-python",
   "name": "python",
   "nbconvert_exporter": "python",
   "pygments_lexer": "ipython3",
   "version": "3.8.10"
  }
 },
 "nbformat": 4,
 "nbformat_minor": 5
}
